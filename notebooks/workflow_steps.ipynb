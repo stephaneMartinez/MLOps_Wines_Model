{
 "cells": [
  {
   "cell_type": "code",
   "execution_count": 1,
   "metadata": {},
   "outputs": [
    {
     "data": {
      "text/plain": [
       "'/Users/stephane/Documents/Professionnel/Formation/Certificats/Datascientest/1 - Cours/MLOps/02 - MasterClass1 - OverViewMLOPS/MLOps_Wines_Model/notebooks'"
      ]
     },
     "execution_count": 1,
     "metadata": {},
     "output_type": "execute_result"
    }
   ],
   "source": [
    "%pwd"
   ]
  },
  {
   "cell_type": "code",
   "execution_count": 2,
   "metadata": {},
   "outputs": [
    {
     "data": {
      "text/plain": [
       "'/Users/stephane/Documents/Professionnel/Formation/Certificats/Datascientest/1 - Cours/MLOps/02 - MasterClass1 - OverViewMLOPS/MLOps_Wines_Model'"
      ]
     },
     "execution_count": 2,
     "metadata": {},
     "output_type": "execute_result"
    }
   ],
   "source": [
    "import os\n",
    "os.chdir('..')\n",
    "%pwd"
   ]
  },
  {
   "cell_type": "code",
   "execution_count": 3,
   "metadata": {},
   "outputs": [],
   "source": [
    "from src.common_utils import read_yaml, create_directories"
   ]
  },
  {
   "cell_type": "code",
   "execution_count": 4,
   "metadata": {},
   "outputs": [],
   "source": [
    "from src.config import CONFIG_FILE_PATH, PARAMS_FILE_PATH, SCHEMA_FILE_PATH"
   ]
  },
  {
   "cell_type": "markdown",
   "metadata": {},
   "source": [
    "### Step 1: Defining configuration classes for each stage"
   ]
  },
  {
   "cell_type": "code",
   "execution_count": 5,
   "metadata": {},
   "outputs": [],
   "source": [
    "from dataclasses import dataclass\n",
    "from pathlib import Path"
   ]
  },
  {
   "cell_type": "code",
   "execution_count": 6,
   "metadata": {},
   "outputs": [],
   "source": [
    "@dataclass(frozen=True)\n",
    "class DataIngestionConfig:\n",
    "    root_dir: Path\n",
    "    source_url: str\n",
    "    local_data_file: Path\n",
    "    unzip_dir: Path\n",
    "\n",
    "@dataclass(frozen=True)\n",
    "class DataValidationConfig:\n",
    "    root_dir: Path\n",
    "    STATUS_FILE: str\n",
    "    unzip_data_dir: Path\n",
    "    all_schema: dict\n",
    "\n",
    "@dataclass(frozen=True)\n",
    "class DataTransformationConfig:\n",
    "    root_dir: Path\n",
    "    data_path: Path\n",
    "\n",
    "@dataclass(frozen=True)\n",
    "class ModelTrainerConfig:\n",
    "    root_dir: Path\n",
    "    X_train_path: Path\n",
    "    y_train_path: Path\n",
    "    X_test_path: Path\n",
    "    y_test_path: Path\n",
    "    model_name: str\n",
    "    alpha: float\n",
    "    l1_ratio: float\n",
    "\n",
    "@dataclass(frozen=True)\n",
    "class ModelEvaluationConfig:\n",
    "    root_dir: Path\n",
    "    X_test_path: Path\n",
    "    y_test_path: Path\n",
    "    model_path: Path\n",
    "    metric_file_name: Path\n",
    "    all_params: dict\n",
    "    metric_file_name: Path\n",
    "    mlflow_uri: str"
   ]
  },
  {
   "cell_type": "markdown",
   "metadata": {},
   "source": [
    "### Step 2: Creation of a configuration manager which will create the configuration objects of each class for each step"
   ]
  },
  {
   "cell_type": "code",
   "execution_count": null,
   "metadata": {},
   "outputs": [],
   "source": [
    "class ConfigurationManager:\n",
    "    def __init__(\n",
    "        self,\n",
    "        config_filepath = CONFIG_FILE_PATH,\n",
    "        params_filepath = PARAMS_FILE_PATH,\n",
    "            schema_filepath = SCHEMA_FILE_PATH):\n",
    "\n",
    "            self.config = read_yaml(config_filepath)\n",
    "            self.params = read_yaml(params_filepath)\n",
    "            self.schema = read_yaml(schema_filepath)\n",
    "\n",
    "            \n",
    "    def get_data_ingestion_config(self) -> DataIngestionConfig:\n",
    "          config = self.config.data_ingestion\n",
    "\n",
    "          create_directories([config.root_dir])\n",
    "\n",
    "          data_ingestion_config = DataIngestionConfig(\n",
    "                root_dir= config.root_dir,\n",
    "                source_url=config.source_URL,\n",
    "                local_data_file=config.local_data_file,\n",
    "                unzip_dir=config.unzip_dir\n",
    "          )\n",
    "\n",
    "          return data_ingestion_config\n",
    "    \n",
    "    def get_data_validation_config(self) -> DataValidationConfig:\n",
    "        config = self.config.data_validation\n",
    "        schema = self.schema.COLUMNS\n",
    "\n",
    "        create_directories([config.root_dir])\n",
    "\n",
    "        data_validation_config = DataValidationConfig(\n",
    "            root_dir = config.root_dir,\n",
    "            STATUS_FILE = config.STATUS_FILE,\n",
    "            unzip_data_dir = config.unzip_dir,\n",
    "            all_schema = schema,\n",
    "        )\n",
    "\n",
    "        return data_validation_config\n",
    "    \n",
    "    def get_data_transformation_config(self) -> DataTransformationConfig:\n",
    "          config = self.config.data_transformation\n",
    "\n",
    "          create_directories([config.root_dir])\n",
    "\n",
    "          data_transformation_config = DataTransformationConfig(\n",
    "                root_dir = config.root_dir,\n",
    "                data_path =  config.data_path,\n",
    "          )\n",
    "\n",
    "          return data_transformation_config\n",
    "    \n",
    "    def get_model_trainer_config(self) -> ModelTrainerConfig:\n",
    "          config = self.config.model_trainer\n",
    "          params = self.params.ElasticNet\n",
    "          \n",
    "          create_directories([config.root_dir])\n",
    "\n",
    "          model_trainer_config = ModelTrainerConfig(\n",
    "                root_dir = config.root_dir,\n",
    "                X_train_path = config.X_train_path,\n",
    "                y_train_path = config.y_train_path,\n",
    "                X_test_path = config.X_test_path,\n",
    "                y_test_path = config.y_test_path,\n",
    "                model_name = config.model_name,\n",
    "                alpha = params.alpha,\n",
    "                l1_ratio = params.l1_ratio\n",
    "          )\n",
    "\n",
    "          return model_trainer_config\n",
    "    \n",
    "    def get_model_evaluation_config(self) -> ModelEvaluationConfig:\n",
    "          config = self.config.model_evaluation\n",
    "          params = self.params.ElasticNet\n",
    "\n",
    "          create_directories([config.root_dir])\n",
    "          \n",
    "          model_evaluation_config = ModelEvaluationConfig(\n",
    "                root_dir=config.root_dir,\n",
    "                X_test_path = config.X_test_path,\n",
    "                y_test_path = config.y_test_path,\n",
    "                model_path=config.model_path,\n",
    "                metric_file_name=config.metric_file_name,\n",
    "                all_params=params,\n",
    "                mlflow_uri=\"https://dagshub.com/stephaneMartinez/MLOps_Wines_Model.s3\", # make sure to update this information\n",
    "          )\n",
    "\n",
    "          return model_evaluation_config"
   ]
  },
  {
   "cell_type": "markdown",
   "metadata": {},
   "source": [
    "### Step 3: Creation of each module for each step using their configuration class to instantiate them."
   ]
  },
  {
   "cell_type": "markdown",
   "metadata": {},
   "source": [
    "#### Data Ingestion step"
   ]
  },
  {
   "cell_type": "code",
   "execution_count": 8,
   "metadata": {},
   "outputs": [],
   "source": [
    "import urllib.request as request\n",
    "import os\n",
    "from custom_logger import logger\n",
    "import zipfile\n",
    "\n",
    "class DataIngestion:\n",
    "    def __init__(self, config: DataIngestionConfig):\n",
    "        self.config = config\n",
    "        \n",
    "    def download_file(self):\n",
    "        if not os.path.exists(self.config.local_data_file):\n",
    "            filename, headers = request.urlretrieve(\n",
    "                url = self.config.source_url,\n",
    "                filename = self.config.local_data_file\n",
    "            )\n",
    "            logger.info(f\"{filename} download! With following info: \\n{headers}\")\n",
    "        \n",
    "        else:\n",
    "            logger.info(f\"File already exists.\")\n",
    "\n",
    "    def extract_zip_file(self):\n",
    "        \"\"\"\n",
    "        zip_file_path: str\n",
    "        Extracts the zip file into the data directory\n",
    "        Function returns None\n",
    "        \"\"\"\n",
    "\n",
    "        unzip_path = self.config.unzip_dir\n",
    "        os.makedirs(unzip_path, exist_ok=True)\n",
    "        with zipfile.ZipFile(self.config.local_data_file, 'r') as zip_ref:\n",
    "            zip_ref.extractall(unzip_path)"
   ]
  },
  {
   "cell_type": "markdown",
   "metadata": {},
   "source": [
    "#### Data Validation step"
   ]
  },
  {
   "cell_type": "code",
   "execution_count": 9,
   "metadata": {},
   "outputs": [],
   "source": [
    "import pandas as pd\n",
    "from src.config_manager import DataValidationConfig\n",
    "\n",
    "class DataValidation:\n",
    "    def __init__(self, config: DataValidationConfig):\n",
    "        self.config = config\n",
    "\n",
    "    def validate_all_columns(self) -> bool:\n",
    "        try:\n",
    "            validation_status = None\n",
    "            data = pd.read_csv(self.config.unzip_data_dir)\n",
    "            all_cols = list(data.columns)\n",
    "\n",
    "            all_schema = self.config.all_schema.keys()\n",
    "\n",
    "            for col in all_cols:\n",
    "                if col not in all_schema:\n",
    "                    validation_status = False\n",
    "                    with open(self.config.STATUS_FILE, 'w') as f:\n",
    "                        f.write(f\"Validation status: {validation_status}\")\n",
    "                else:\n",
    "                    validation_status =  True\n",
    "                    with open(self.config.STATUS_FILE, 'w') as f:\n",
    "                        f.write(f\"Validation status: {validation_status}\")\n",
    "            return validation_status\n",
    "        except Exception as e:\n",
    "            raise e"
   ]
  },
  {
   "cell_type": "markdown",
   "metadata": {},
   "source": [
    "#### Data Transformation step"
   ]
  },
  {
   "cell_type": "code",
   "execution_count": 10,
   "metadata": {},
   "outputs": [],
   "source": [
    "from sklearn.model_selection import train_test_split\n",
    "from custom_logger import logger\n",
    "from src.entity import DataTransformationConfig\n",
    "\n",
    "class DataTransformation:\n",
    "    def __init__(self, config: DataTransformationConfig):\n",
    "        self.config = config\n",
    "\n",
    "    def train_test_splitting(self):\n",
    "        data = pd.read_csv(self.config.data_path)\n",
    "\n",
    "        X = data.drop(columns=[\"quality\"])\n",
    "        y = data[\"quality\"]\n",
    "\n",
    "        X_train, X_test, y_train, y_test = train_test_split(X, y, test_size=0.2, random_state=42)\n",
    "\n",
    "        X_train.to_csv(os.path.join(self.config.root_dir, \"X_train.csv\"), index = False)\n",
    "        y_train.to_csv(os.path.join(self.config.root_dir, \"y_train.csv\"), index = False)\n",
    "        X_test.to_csv(os.path.join(self.config.root_dir, \"X_test.csv\"), index = False)\n",
    "        y_test.to_csv(os.path.join(self.config.root_dir, \"y_test.csv\"), index = False)\n",
    "\n",
    "        logger.info(\"Splitted data into training and test sets\")\n",
    "        logger.info(f\"X_train shape: {X_train.shape}, y_train shape: {y_train.shape}\")\n",
    "        logger.info(f\"X_test shape: {X_test.shape}, y_test shape: {y_test.shape}\")\n",
    "\n",
    "        print(X_train.shape, y_train.shape)\n",
    "        print(X_test.shape, y_test.shape)"
   ]
  },
  {
   "cell_type": "markdown",
   "metadata": {},
   "source": [
    "#### Model Trainer step"
   ]
  },
  {
   "cell_type": "code",
   "execution_count": 11,
   "metadata": {},
   "outputs": [],
   "source": [
    "import joblib\n",
    "from sklearn.linear_model import ElasticNet\n",
    "from src.entity import ModelTrainerConfig\n",
    "\n",
    "class ModelTrainer:\n",
    "    def __init__(self, config: ModelTrainerConfig):\n",
    "        self.config = config\n",
    "\n",
    "    def train(self):\n",
    "        X_train = pd.read_csv(self.config.X_train_path)\n",
    "        y_train = pd.read_csv(self.config.y_train_path)\n",
    "\n",
    "        lr = ElasticNet(alpha = self.config.alpha, l1_ratio = self.config.l1_ratio, random_state=42)\n",
    "        lr.fit(X_train, y_train)\n",
    "\n",
    "        joblib.dump(lr, os.path.join(self.config.root_dir, self.config.model_name))"
   ]
  },
  {
   "cell_type": "markdown",
   "metadata": {},
   "source": [
    "#### Model Evaluation step"
   ]
  },
  {
   "cell_type": "code",
   "execution_count": 12,
   "metadata": {},
   "outputs": [],
   "source": [
    "import numpy as np\n",
    "import mlflow\n",
    "import mlflow.sklearn\n",
    "import dagshub\n",
    "import joblib\n",
    "from urllib.parse import urlparse\n",
    "from sklearn.metrics import mean_squared_error, mean_absolute_error, r2_score\n",
    "from src.entity import ModelEvaluationConfig\n",
    "from src.common_utils import save_json\n",
    "\n",
    "dagshub.init(repo_owner='your_username', repo_name='your_repo', mlflow=True)\n",
    "\n",
    "class ModelEvaluation:\n",
    "    def __init__(self, config: ModelEvaluationConfig):\n",
    "        self.config = config\n",
    "\n",
    "    def eval_metrics(self, actual, pred):\n",
    "        rmse = np.sqrt(mean_squared_error(actual, pred))\n",
    "        mae = mean_absolute_error(actual, pred)\n",
    "        r2 = r2_score(actual, pred)\n",
    "        return rmse, mae, r2\n",
    "    \n",
    "    def log_into_mlflow(self):\n",
    "        X_test = pd.read_csv(self.config.X_test_path)\n",
    "        y_test = pd.read_csv(self.config.y_test_path)\n",
    "        model = joblib.load(self.config.model_path)\n",
    "\n",
    "        mlflow.set_registry_uri(self.config.mlflow_uri)\n",
    "        tracking_url_type_store = urlparse(mlflow.get_tracking_uri()).scheme\n",
    "\n",
    "        with mlflow.start_run():\n",
    "            predicted_qualities = model.predict(X_test)\n",
    "\n",
    "            (rmse, mae, r2) = self.eval_metrics(y_test, predicted_qualities)\n",
    "\n",
    "            # Saving metrics as local\n",
    "            scores = {\"rmse\": rmse, \"mae\": mae, \"r2\": r2}\n",
    "            save_json(path=Path(self.config.metric_file_name), data=scores)\n",
    "\n",
    "            mlflow.log_params(self.config.all_params)\n",
    "\n",
    "            mlflow.log_metric(\"rmse\", rmse)\n",
    "            mlflow.log_metric(\"mae\", mae)\n",
    "            mlflow.log_metric(\"r2\", r2)\n",
    "\n",
    "            # Model registry does not work with file store\n",
    "            if tracking_url_type_store != \"file\":\n",
    "\n",
    "                # Register the model\n",
    "                # There are other ways to use the Model Registry, which depends on the use case.\n",
    "\n",
    "                mlflow.sklearn.log_model(model, \"model\", registered_model_name=\"ElasticnetModel\")\n",
    "\n",
    "            else:\n",
    "                mlflow.sklearn.log_model(model, \"model\") "
   ]
  },
  {
   "cell_type": "markdown",
   "metadata": {},
   "source": [
    "### Step 4: Pipeline steps to instantiate the classes and call each of the processes"
   ]
  },
  {
   "cell_type": "markdown",
   "metadata": {},
   "source": [
    "#### Data Ingestion step"
   ]
  },
  {
   "cell_type": "code",
   "execution_count": 13,
   "metadata": {},
   "outputs": [],
   "source": [
    "config = ConfigurationManager()\n",
    "data_ingestion_config = config.get_data_ingestion_config()\n",
    "data_ingestion = DataIngestion(config = data_ingestion_config)\n",
    "data_ingestion.download_file()\n",
    "data_ingestion.extract_zip_file()"
   ]
  },
  {
   "cell_type": "markdown",
   "metadata": {},
   "source": [
    "#### Data Validation step"
   ]
  },
  {
   "cell_type": "code",
   "execution_count": 14,
   "metadata": {},
   "outputs": [
    {
     "data": {
      "text/plain": [
       "True"
      ]
     },
     "execution_count": 14,
     "metadata": {},
     "output_type": "execute_result"
    }
   ],
   "source": [
    "config = ConfigurationManager()\n",
    "data_validation_config = config.get_data_validation_config()\n",
    "data_validation = DataValidation(config=data_validation_config)\n",
    "data_validation.validate_all_columns()"
   ]
  },
  {
   "cell_type": "markdown",
   "metadata": {},
   "source": [
    "#### Data Transformation step"
   ]
  },
  {
   "cell_type": "code",
   "execution_count": 15,
   "metadata": {},
   "outputs": [
    {
     "name": "stdout",
     "output_type": "stream",
     "text": [
      "(1279, 11) (1279,)\n",
      "(320, 11) (320,)\n"
     ]
    }
   ],
   "source": [
    "try:\n",
    "    with open(Path(\"data/status.txt\"), 'r') as f:\n",
    "        status = f.read().split(\" \")[-1]\n",
    "            \n",
    "    if status == \"True\":\n",
    "        config = ConfigurationManager()\n",
    "        data_transformation_config = config.get_data_transformation_config()\n",
    "        data_transformation = DataTransformation(config = data_transformation_config)\n",
    "        data_transformation.train_test_splitting()\n",
    "    else:\n",
    "        raise Exception(\"Your data schema is not valid\")\n",
    "        \n",
    "except Exception as e:\n",
    "    print(e)"
   ]
  },
  {
   "cell_type": "markdown",
   "metadata": {},
   "source": [
    "#### Model trainer step"
   ]
  },
  {
   "cell_type": "code",
   "execution_count": 16,
   "metadata": {},
   "outputs": [],
   "source": [
    "config = ConfigurationManager()\n",
    "model_trainer_config = config.get_model_trainer_config()\n",
    "model_trainer = ModelTrainer(config= model_trainer_config)\n",
    "model_trainer.train()"
   ]
  },
  {
   "cell_type": "markdown",
   "metadata": {},
   "source": [
    "#### Model evaluation step"
   ]
  },
  {
   "cell_type": "code",
   "execution_count": null,
   "metadata": {},
   "outputs": [],
   "source": [
    "config = ConfigurationManager()\n",
    "model_evaluation_config = config.get_model_evaluation_config()\n",
    "model_evaluation = ModelEvaluation(config = model_evaluation_config)\n",
    "model_evaluation.log_into_mlflow()"
   ]
  }
 ],
 "metadata": {
  "kernelspec": {
   "display_name": "venv",
   "language": "python",
   "name": "python3"
  },
  "language_info": {
   "codemirror_mode": {
    "name": "ipython",
    "version": 3
   },
   "file_extension": ".py",
   "mimetype": "text/x-python",
   "name": "python",
   "nbconvert_exporter": "python",
   "pygments_lexer": "ipython3",
   "version": "3.11.5"
  }
 },
 "nbformat": 4,
 "nbformat_minor": 2
}
